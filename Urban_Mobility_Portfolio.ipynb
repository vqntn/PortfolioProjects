{
 "cells": [
  {
   "cell_type": "markdown",
   "id": "a67cabb9",
   "metadata": {},
   "source": [
    "# Urban Mobility Analysis using Google Places API\n",
    "\n",
    "_What does urban movement look like on an hourly basis? How can we use location data to support smarter city planning?_\n",
    "\n",
    "This project explores the use of location-based data to analyze human mobility patterns in urban areas using the Google Places API.\n",
    "The case study focuses on the city of Concepción, Chile, using real data extracted from thousands of public locations."
   ]
  },
  {
   "cell_type": "markdown",
   "id": "26450a9d",
   "metadata": {},
   "source": [
    "## Goal\n",
    "\n",
    "The goal of this project is to develop a method to collect, filter, and visualize mobility data using the Google Places API.\n",
    "By analyzing hourly popularity trends of different places in the city, this project seeks to provide useful insights for urban planning, transportation management, and infrastructure development."
   ]
  },
  {
   "cell_type": "markdown",
   "id": "fcad33b0",
   "metadata": {},
   "source": [
    "## Setup\n",
    "\n",
    "Below are the libraries used in this project, including tools for data extraction, analysis, visualization, and statistics."
   ]
  },
  {
   "cell_type": "code",
   "execution_count": null,
   "id": "3142208a",
   "metadata": {},
   "outputs": [],
   "source": [
    "import pandas as pd\n",
    "import numpy as np\n",
    "import requests\n",
    "import googlemaps\n",
    "from matplotlib import pyplot as plt\n",
    "import seaborn as sns\n",
    "from populartimes import get_id\n",
    "from datetime import datetime\n",
    "import time"
   ]
  },
  {
   "cell_type": "markdown",
   "id": "dde4ec8a",
   "metadata": {},
   "source": [
    "## Data Collection\n",
    "\n",
    "In this section, I use the Google Maps API to search for specific locations and retrieve their place IDs. These IDs are then used to request full place details including address, location, categories, and more."
   ]
  },
  {
   "cell_type": "code",
   "execution_count": null,
   "id": "0ab52b5e",
   "metadata": {},
   "outputs": [],
   "source": [
    "API_KEY = 'PERSONALAPIKEY'\n",
    "map_client = googlemaps.Client(API_KEY)\n",
    "\n",
    "def get_place_ids(location_names):\n",
    "    place_ids = []\n",
    "    for loc in location_names:\n",
    "        result = map_client.places(query=loc)\n",
    "        if result.get('results'):\n",
    "            place_id = result['results'][0].get('place_id')\n",
    "            if place_id:\n",
    "                place_ids.append({'name': loc, 'place_id': place_id})\n",
    "    return place_ids"
   ]
  },
  {
   "cell_type": "markdown",
   "id": "ce79bb70",
   "metadata": {},
   "source": [
    "## Popular Times Extraction\n",
    "\n",
    "Using the place IDs previously obtained, I extract popularity trends using a custom tool that retrieves hourly data for each day of the week. This information helps identify peak hours for each place and overall mobility patterns."
   ]
  },
  {
   "cell_type": "code",
   "execution_count": null,
   "id": "015cd94f",
   "metadata": {},
   "outputs": [],
   "source": [
    "def get_populartimes_for_ids(place_ids):\n",
    "    results = []\n",
    "    for entry in place_ids:\n",
    "        try:\n",
    "            data = get_id(API_KEY, entry['place_id'])\n",
    "            results.append(data)\n",
    "            time.sleep(1.5)\n",
    "        except Exception as e:\n",
    "            print(f\"Error retrieving {entry['name']}: {e}\")\n",
    "    return results"
   ]
  },
  {
   "cell_type": "markdown",
   "id": "c1a38fbe",
   "metadata": {},
   "source": [
    "## From Specific Places to Territory-Wide Data\n",
    "\n",
    "After successfully retrieving `populartimes` from a curated list of specific locations, the project scaled up to analyze broader urban zones.\n",
    "\n",
    "Using geographic coordinates and radius-based searches, the methodology was expanded to cover entire urban sectors using the `nearbysearch` feature from the Google Places API. This allowed the extraction of hundreds of additional places within a defined polygonal area.\n",
    "\n",
    "However, not all places returned by the API included `populartimes` data. Therefore, a data cleaning step was necessary to **filter only the locations that contained meaningful temporal activity data**. This filtering process ensured that the final analysis and visualizations were based on consistent and comparable information across the urban territory.\n",
    "\n",
    "The combination of targeted and territory-wide extraction allowed for a robust exploration of human mobility patterns across different types of urban environments."
   ]
  },
  {
   "cell_type": "markdown",
   "id": "25276bbe",
   "metadata": {},
   "source": [
    "## Results\n",
    "\n",
    "The analysis revealed distinct patterns of human activity. Commercial centers, parks, and transportation hubs show clear peaks during commute hours and weekends. These patterns were visualized through interactive dashboards and geospatial tools.\n",
    "\n",
    "- 7 key urban zones analyzed\n",
    "- Over 100 places collected with metadata\n",
    "- Popularity trends aggregated and mapped"
   ]
  },
  {
   "cell_type": "markdown",
   "id": "cd09febe",
   "metadata": {},
   "source": [
    "## Technologies Used\n",
    "\n",
    "- Python · Pandas · Requests · GoogleMaps API · populartimes\n",
    "- Data visualization with Matplotlib & Seaborn\n",
    "- Mapping with Kepler.gl / Tableau"
   ]
  },
  {
   "cell_type": "markdown",
   "id": "22d29c82",
   "metadata": {},
   "source": [
    "## Conclusion\n",
    "\n",
    "This method demonstrates how public data from Google Maps can be leveraged to understand urban behavior.\n",
    "It is especially valuable for applications in urban design, traffic engineering, public safety, and commercial planning.\n",
    "\n",
    "Next steps may include combining this data with socioeconomic or transport layers to enhance the impact of spatial analytics in public policy."
   ]
  }
 ],
 "metadata": {
  "kernelspec": {
   "display_name": "Python 3 (ipykernel)",
   "language": "python",
   "name": "python3"
  },
  "language_info": {
   "codemirror_mode": {
    "name": "ipython",
    "version": 3
   },
   "file_extension": ".py",
   "mimetype": "text/x-python",
   "name": "python",
   "nbconvert_exporter": "python",
   "pygments_lexer": "ipython3",
   "version": "3.12.7"
  }
 },
 "nbformat": 4,
 "nbformat_minor": 5
}
